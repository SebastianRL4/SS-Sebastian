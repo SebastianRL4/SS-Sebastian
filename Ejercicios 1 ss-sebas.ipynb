{
 "cells": [
  {
   "cell_type": "markdown",
   "metadata": {},
   "source": [
    "**Ejercicio 1** Write a Python program to display the first and last colors from the following list. \n",
    "color_list = [\"Red\",\"Green\",\"White\" ,\"Black\"]"
   ]
  },
  {
   "cell_type": "code",
   "execution_count": 1,
   "metadata": {},
   "outputs": [
    {
     "data": {
      "text/plain": [
       "['Red', 'Black']"
      ]
     },
     "execution_count": 1,
     "metadata": {},
     "output_type": "execute_result"
    }
   ],
   "source": [
    "color_list= [\"Red\", \"Green\", \"White\", \"Black\"]\n",
    "\n",
    "color_list[::3]"
   ]
  },
  {
   "cell_type": "markdown",
   "metadata": {},
   "source": [
    "**Ejercicio 2**  Write a Python function that takes a sequence of numbers and determines if all the numbers are different from each other. "
   ]
  },
  {
   "cell_type": "code",
   "execution_count": 2,
   "metadata": {},
   "outputs": [
    {
     "name": "stdout",
     "output_type": "stream",
     "text": [
      "Dame 2 números\n",
      "El primer numero es:34\n",
      "El segundo numero es:34\n"
     ]
    },
    {
     "data": {
      "text/plain": [
       "True"
      ]
     },
     "execution_count": 2,
     "metadata": {},
     "output_type": "execute_result"
    }
   ],
   "source": [
    "print(\"Dame 2 números\")\n",
    "\n",
    "a= input('El primer numero es:')\n",
    "b= input('El segundo numero es:')\n",
    "\n",
    "a==b"
   ]
  },
  {
   "cell_type": "markdown",
   "metadata": {},
   "source": [
    "**Exercise 3** Write a function that tells if a given number n is even, if not, then returns twice the number.\n",
    "\n",
    "Write the description of the function in more than one line. Make additional comments in one line\n",
    "\n",
    "Afterwards, call the function with different inputs, use the ? notation."
   ]
  },
  {
   "cell_type": "code",
   "execution_count": 16,
   "metadata": {},
   "outputs": [
    {
     "name": "stdout",
     "output_type": "stream",
     "text": [
      "dame un numero:68\n",
      "68 es tu numero y es par\n"
     ]
    }
   ],
   "source": [
    "#definimos la funcion \n",
    "n= int(input(\"dame un numero:\"))\n",
    "\n",
    "def f(n):\n",
    "    '''\n",
    "    Esta funcion toma un numero y verifica si este es par o impar \n",
    "    como argumento se tiene un numero dado por el usuario.\n",
    "    '''\n",
    "    if n%2!=0:\n",
    "        print(n,\"es tu numero y es impar\", \"y este es el doble de tu numero:\", n*2) #hacemos uso de condicionales y ayudandonos de la operacion modulo que consiste en obtener el residuo de un cociente\n",
    "    else:\n",
    "        print(n, \"es tu numero y es par\")\n",
    "        \n",
    "f(n)"
   ]
  },
  {
   "cell_type": "code",
   "execution_count": 17,
   "metadata": {},
   "outputs": [],
   "source": [
    "f?\n"
   ]
  },
  {
   "cell_type": "markdown",
   "metadata": {},
   "source": [
    "**Exercise 4** \n",
    "\n",
    "Create a uniform subdivision of the interval -1.3 to 2.5 with 64 subdivisions."
   ]
  },
  {
   "cell_type": "code",
   "execution_count": 21,
   "metadata": {},
   "outputs": [],
   "source": [
    "import numpy as np"
   ]
  },
  {
   "cell_type": "code",
   "execution_count": 23,
   "metadata": {},
   "outputs": [
    {
     "data": {
      "text/plain": [
       "array([-1.3       , -1.23968254, -1.17936508, -1.11904762, -1.05873016,\n",
       "       -0.9984127 , -0.93809524, -0.87777778, -0.81746032, -0.75714286,\n",
       "       -0.6968254 , -0.63650794, -0.57619048, -0.51587302, -0.45555556,\n",
       "       -0.3952381 , -0.33492063, -0.27460317, -0.21428571, -0.15396825,\n",
       "       -0.09365079, -0.03333333,  0.02698413,  0.08730159,  0.14761905,\n",
       "        0.20793651,  0.26825397,  0.32857143,  0.38888889,  0.44920635,\n",
       "        0.50952381,  0.56984127,  0.63015873,  0.69047619,  0.75079365,\n",
       "        0.81111111,  0.87142857,  0.93174603,  0.99206349,  1.05238095,\n",
       "        1.11269841,  1.17301587,  1.23333333,  1.29365079,  1.35396825,\n",
       "        1.41428571,  1.47460317,  1.53492063,  1.5952381 ,  1.65555556,\n",
       "        1.71587302,  1.77619048,  1.83650794,  1.8968254 ,  1.95714286,\n",
       "        2.01746032,  2.07777778,  2.13809524,  2.1984127 ,  2.25873016,\n",
       "        2.31904762,  2.37936508,  2.43968254,  2.5       ])"
      ]
     },
     "execution_count": 23,
     "metadata": {},
     "output_type": "execute_result"
    }
   ],
   "source": [
    "intervalo= np.linspace(-1.3, 2.5, 64)\n",
    "\n",
    "intervalo"
   ]
  },
  {
   "cell_type": "markdown",
   "metadata": {},
   "source": [
    "**Exercise 5** \n",
    "\n",
    "Generate an array of length 3n filled with the cyclic pattern 1, 2, 3.\n",
    "\n",
    "usando linspace o arange\n",
    "\n",
    "usando tile\n"
   ]
  },
  {
   "cell_type": "code",
   "execution_count": 4,
   "metadata": {},
   "outputs": [],
   "source": [
    "import numpy as np"
   ]
  },
  {
   "cell_type": "code",
   "execution_count": 27,
   "metadata": {},
   "outputs": [
    {
     "data": {
      "text/plain": [
       "array([[1, 2, 3, 1, 2, 3, 1, 2, 3, 1, 2, 3, 1, 2, 3]])"
      ]
     },
     "execution_count": 27,
     "metadata": {},
     "output_type": "execute_result"
    }
   ],
   "source": [
    "A=np.array([1,2,3])\n",
    "\n",
    "np.tile(A,(1,5))"
   ]
  },
  {
   "cell_type": "markdown",
   "metadata": {},
   "source": [
    "**Exercise 6**\n",
    "\n",
    "Create an array of the first 10 odd integers.\n",
    "\n",
    "usando linspace\n",
    "\n",
    "usando formfunction"
   ]
  },
  {
   "cell_type": "code",
   "execution_count": 11,
   "metadata": {},
   "outputs": [],
   "source": [
    "import numpy as np"
   ]
  },
  {
   "cell_type": "code",
   "execution_count": 12,
   "metadata": {},
   "outputs": [
    {
     "data": {
      "text/plain": [
       "array([ 1., 11., 21.])"
      ]
     },
     "execution_count": 12,
     "metadata": {},
     "output_type": "execute_result"
    }
   ],
   "source": [
    "x= np.linspace(1, 21, 3)\n",
    "\n",
    "x"
   ]
  },
  {
   "cell_type": "code",
   "execution_count": 37,
   "metadata": {},
   "outputs": [
    {
     "data": {
      "text/plain": [
       "array([[-1.,  1.,  3.,  5.,  7.,  9., 11., 13., 15., 17., 19.]])"
      ]
     },
     "execution_count": 37,
     "metadata": {},
     "output_type": "execute_result"
    }
   ],
   "source": [
    "f=np.fromfunction(lambda i, j: (2*j)-1, (1,11))\n",
    "\n",
    "f"
   ]
  },
  {
   "cell_type": "markdown",
   "metadata": {},
   "source": [
    "**Exercise 7**\n",
    "\n",
    "Create a 10 x 10 arrays of zeros and then \"frame\" it with a border of ones.\n",
    "\n",
    "usar vistas "
   ]
  },
  {
   "cell_type": "code",
   "execution_count": 6,
   "metadata": {},
   "outputs": [],
   "source": [
    "import numpy as np"
   ]
  },
  {
   "cell_type": "code",
   "execution_count": 41,
   "metadata": {},
   "outputs": [
    {
     "data": {
      "text/plain": [
       "array([[0., 0., 0., 0., 0., 0., 0., 0., 0., 0.]])"
      ]
     },
     "execution_count": 41,
     "metadata": {},
     "output_type": "execute_result"
    }
   ],
   "source": [
    "f=np.fromfunction(lambda i, j: i, (1,10))\n",
    "\n",
    "f\n"
   ]
  },
  {
   "cell_type": "code",
   "execution_count": null,
   "metadata": {},
   "outputs": [],
   "source": []
  },
  {
   "cell_type": "markdown",
   "metadata": {},
   "source": [
    "**Exercise 8**\n",
    "\n",
    "Create an 8 x 8 array with a checkerboard pattern of zeros and ones using a \n",
    "\n",
    "slicing+striding approach.\n",
    "\n",
    "usar una mascara"
   ]
  },
  {
   "cell_type": "code",
   "execution_count": 42,
   "metadata": {},
   "outputs": [],
   "source": [
    "import numpy as np"
   ]
  },
  {
   "cell_type": "code",
   "execution_count": 69,
   "metadata": {},
   "outputs": [
    {
     "name": "stdout",
     "output_type": "stream",
     "text": [
      "[[0. 0. 0. 0. 0. 0. 0. 0.]] \n",
      " [[1. 1. 1. 1.]]\n"
     ]
    }
   ],
   "source": [
    "A= np.zeros((1,8))\n",
    "B= np.ones((1,4))\n",
    "\n",
    "\n",
    "print(A,'\\n',B)"
   ]
  },
  {
   "cell_type": "code",
   "execution_count": 58,
   "metadata": {},
   "outputs": [
    {
     "data": {
      "text/plain": [
       "array([[0., 0., 0.],\n",
       "       [0., 0., 0.],\n",
       "       [0., 0., 0.]])"
      ]
     },
     "execution_count": 58,
     "metadata": {},
     "output_type": "execute_result"
    }
   ],
   "source": [
    "C=np.resize(A,(3,3))\n",
    "\n",
    "C"
   ]
  },
  {
   "cell_type": "code",
   "execution_count": 64,
   "metadata": {},
   "outputs": [
    {
     "data": {
      "text/plain": [
       "array([[False, False, False, False, False, False, False, False]])"
      ]
     },
     "execution_count": 64,
     "metadata": {},
     "output_type": "execute_result"
    }
   ],
   "source": [
    "mascara= A==1\n",
    "\n",
    "mascara"
   ]
  },
  {
   "cell_type": "code",
   "execution_count": 67,
   "metadata": {},
   "outputs": [
    {
     "data": {
      "text/plain": [
       "array([[False, False, False, False, False, False, False, False]])"
      ]
     },
     "execution_count": 67,
     "metadata": {},
     "output_type": "execute_result"
    }
   ],
   "source": [
    "A>0"
   ]
  },
  {
   "cell_type": "code",
   "execution_count": 68,
   "metadata": {},
   "outputs": [
    {
     "data": {
      "text/plain": [
       "array([[0., 0., 0., 0., 0., 0., 0., 0.]])"
      ]
     },
     "execution_count": 68,
     "metadata": {},
     "output_type": "execute_result"
    }
   ],
   "source": [
    "A[A>0]=1\n",
    "A"
   ]
  },
  {
   "cell_type": "code",
   "execution_count": null,
   "metadata": {},
   "outputs": [],
   "source": []
  }
 ],
 "metadata": {
  "kernelspec": {
   "display_name": "Python 3 (ipykernel)",
   "language": "python",
   "name": "python3"
  },
  "language_info": {
   "codemirror_mode": {
    "name": "ipython",
    "version": 3
   },
   "file_extension": ".py",
   "mimetype": "text/x-python",
   "name": "python",
   "nbconvert_exporter": "python",
   "pygments_lexer": "ipython3",
   "version": "3.9.13"
  }
 },
 "nbformat": 4,
 "nbformat_minor": 2
}
